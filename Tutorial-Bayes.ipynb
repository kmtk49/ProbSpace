{
 "cells": [
  {
   "cell_type": "code",
   "execution_count": 1,
   "metadata": {},
   "outputs": [],
   "source": [
    "import pandas as pd\n",
    "import numpy as np\n",
    "import sklearn\n",
    "import matplotlib.pyplot as plt\n",
    "import gc, pickle"
   ]
  },
  {
   "cell_type": "code",
   "execution_count": 2,
   "metadata": {},
   "outputs": [
    {
     "name": "stdout",
     "output_type": "stream",
     "text": [
      "(8878, 2) (24838, 1)\n"
     ]
    }
   ],
   "source": [
    "train_data = pd.read_csv(\"./csv/train_data.csv\", index_col='id')\n",
    "test_data = pd.read_csv(\"./csv/test_data.csv\", index_col='id')\n",
    "print(train_data.shape,test_data.shape)"
   ]
  },
  {
   "cell_type": "code",
   "execution_count": 3,
   "metadata": {},
   "outputs": [],
   "source": [
    "X = train_data['contents']\n",
    "y = train_data['y']"
   ]
  },
  {
   "cell_type": "code",
   "execution_count": 12,
   "metadata": {},
   "outputs": [],
   "source": [
    "#scikit-learnライブラリをimport\n",
    "from sklearn.feature_extraction.text import TfidfVectorizer, CountVectorizer\n",
    "from sklearn.linear_model import LogisticRegression\n",
    "from sklearn.model_selection import train_test_split, GridSearchCV,StratifiedKFold\n",
    "from sklearn.naive_bayes import GaussianNB,MultinomialNB\n",
    "from sklearn.metrics import confusion_matrix, f1_score\n",
    "# 回帰モデルのインスタンス化\n",
    "#tfidf = TfidfVectorizer()\n",
    "#tfidf.fit(X)\n",
    "#vec_X = tfidf.transform(X)\n",
    "\n",
    "countvec = CountVectorizer()\n",
    "countvec.fit(X)\n",
    "vec_X = countvec.transform(X)\n"
   ]
  },
  {
   "cell_type": "code",
   "execution_count": 46,
   "metadata": {},
   "outputs": [
    {
     "name": "stdout",
     "output_type": "stream",
     "text": [
      "alpha =  0.001  Average Rate: 0.998639338823032 Pred Ave : 0.7831099941631714\n",
      "alpha =  0.005333333333333333  Average Rate: 0.99342124615481 Pred Ave : 0.8190139904730387\n",
      "alpha =  0.009666666666666667  Average Rate: 0.9908881147117353 Pred Ave : 0.8181771551209072\n",
      "alpha =  0.013999999999999999  Average Rate: 0.9867346408234462 Pred Ave : 0.8183735940336994\n",
      "alpha =  0.018333333333333333  Average Rate: 0.984880126415679 Pred Ave : 0.8154400262502227\n",
      "alpha =  0.02266666666666667  Average Rate: 0.9831094899615052 Pred Ave : 0.8109258777074078\n",
      "alpha =  0.027  Average Rate: 0.9800390063693252 Pred Ave : 0.8033381659990624\n",
      "alpha =  0.03133333333333333  Average Rate: 0.9759846775934412 Pred Ave : 0.7991050840669561\n",
      "alpha =  0.035666666666666666  Average Rate: 0.968707087860865 Pred Ave : 0.7889191794714873\n",
      "alpha =  0.04  Average Rate: 0.9639911370144401 Pred Ave : 0.7878536368278906\n"
     ]
    }
   ],
   "source": [
    "count = 100\n",
    "\n",
    "for a in np.linspace(0.001,0.04,10):\n",
    "    rate = 0\n",
    "    pred_rate = 0\n",
    "    for i in range(count):\n",
    "        X_train, X_test, y_train, y_test = train_test_split(\n",
    "            vec_X, y, test_size=0.25, stratify=y)\n",
    "        model = MultinomialNB(alpha=a)\n",
    "        result = model.fit(X_train, y_train)\n",
    "        acc = f1_score(y_train,model.predict(X_train))\n",
    "        pred_acc = f1_score(y_test,model.predict(X_test))\n",
    "        if pred_acc > 0.80: \n",
    "            pickle.dump(model,open('nb_model.pickle','wb'))\n",
    "        #print(acc,' / ',pred_acc)\n",
    "        rate += acc\n",
    "        pred_rate += pred_acc\n",
    "    print('alpha = ',a,' Average Rate:',rate/count, 'Pred Ave :', pred_rate/ count)"
   ]
  },
  {
   "cell_type": "code",
   "execution_count": 47,
   "metadata": {},
   "outputs": [
    {
     "name": "stdout",
     "output_type": "stream",
     "text": [
      "0.9639911370144401\n"
     ]
    }
   ],
   "source": [
    "print(rate/count)"
   ]
  },
  {
   "cell_type": "code",
   "execution_count": 48,
   "metadata": {},
   "outputs": [],
   "source": [
    "model = pickle.load(open('nb_model.pickle','rb'))"
   ]
  },
  {
   "cell_type": "code",
   "execution_count": 49,
   "metadata": {},
   "outputs": [
    {
     "name": "stdout",
     "output_type": "stream",
     "text": [
      "[[6513   17]\n",
      " [   0  128]]\n"
     ]
    }
   ],
   "source": [
    "print(confusion_matrix(y_train, model.predict(X_train)))"
   ]
  },
  {
   "cell_type": "code",
   "execution_count": 50,
   "metadata": {},
   "outputs": [
    {
     "name": "stdout",
     "output_type": "stream",
     "text": [
      "0.9377289377289377\n"
     ]
    }
   ],
   "source": [
    "print(f1_score(y_train, model.predict(X_train))) #ほとんど検出できず"
   ]
  },
  {
   "cell_type": "code",
   "execution_count": 51,
   "metadata": {},
   "outputs": [
    {
     "name": "stdout",
     "output_type": "stream",
     "text": [
      "[[2172    5]\n",
      " [   0   43]]\n"
     ]
    }
   ],
   "source": [
    "print(confusion_matrix(y_test, model.predict(X_test)))"
   ]
  },
  {
   "cell_type": "code",
   "execution_count": 52,
   "metadata": {},
   "outputs": [
    {
     "name": "stdout",
     "output_type": "stream",
     "text": [
      "0.945054945054945\n"
     ]
    }
   ],
   "source": [
    "print(f1_score(y_test, model.predict(X_test))) "
   ]
  },
  {
   "cell_type": "code",
   "execution_count": 53,
   "metadata": {},
   "outputs": [],
   "source": [
    "vec_test = countvec.transform(test_data['contents'])"
   ]
  },
  {
   "cell_type": "code",
   "execution_count": 54,
   "metadata": {},
   "outputs": [],
   "source": [
    "#テスト結果の出力\n",
    "test_predicted = model.predict(vec_test)\n",
    "submit_df = pd.DataFrame({'y': test_predicted})\n",
    "submit_df.index.name = 'id'\n",
    "submit_df.index += 1\n",
    "submit_df.to_csv('./sub/NB_submission.csv')"
   ]
  },
  {
   "cell_type": "code",
   "execution_count": null,
   "metadata": {},
   "outputs": [],
   "source": []
  },
  {
   "cell_type": "code",
   "execution_count": null,
   "metadata": {},
   "outputs": [],
   "source": []
  }
 ],
 "metadata": {
  "kernelspec": {
   "display_name": "Python 3",
   "language": "python",
   "name": "python3"
  },
  "language_info": {
   "codemirror_mode": {
    "name": "ipython",
    "version": 3
   },
   "file_extension": ".py",
   "mimetype": "text/x-python",
   "name": "python",
   "nbconvert_exporter": "python",
   "pygments_lexer": "ipython3",
   "version": "3.7.6"
  }
 },
 "nbformat": 4,
 "nbformat_minor": 4
}
